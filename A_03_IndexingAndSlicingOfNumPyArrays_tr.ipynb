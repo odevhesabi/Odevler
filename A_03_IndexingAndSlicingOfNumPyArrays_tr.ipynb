{
  "nbformat": 4,
  "nbformat_minor": 0,
  "metadata": {
    "kernelspec": {
      "display_name": "Python 3",
      "language": "python",
      "name": "python3"
    },
    "language_info": {
      "codemirror_mode": {
        "name": "ipython",
        "version": 3
      },
      "file_extension": ".py",
      "mimetype": "text/x-python",
      "name": "python",
      "nbconvert_exporter": "python",
      "pygments_lexer": "ipython3",
      "version": "3.8.2"
    },
    "colab": {
      "name": "A_03_IndexingAndSlicingOfNumPyArrays_tr.ipynb",
      "provenance": [],
      "include_colab_link": true
    }
  },
  "cells": [
    {
      "cell_type": "markdown",
      "metadata": {
        "id": "view-in-github",
        "colab_type": "text"
      },
      "source": [
        "<a href=\"https://colab.research.google.com/github/odevhesabi/Odevler/blob/main/A_03_IndexingAndSlicingOfNumPyArrays_tr.ipynb\" target=\"_parent\"><img src=\"https://colab.research.google.com/assets/colab-badge.svg\" alt=\"Open In Colab\"/></a>"
      ]
    },
    {
      "cell_type": "markdown",
      "metadata": {
        "id": "4YAWoqArSjVH"
      },
      "source": [
        "For the assignment, you are going to use [Earthquakes](https://bootrain-lms-assets.s3.eu-central-1.amazonaws.com/bootrain-lms-static/datasets/Earthquakes.csv) dataset."
      ]
    },
    {
      "cell_type": "markdown",
      "metadata": {
        "id": "O0JAdwf0SjVN"
      },
      "source": [
        "**(1)** Load the Earthquakes dataset. Export the dataset to an array as you covered in the previous lesson."
      ]
    },
    {
      "cell_type": "code",
      "metadata": {
        "id": "NA-_akpRSjVO",
        "outputId": "9127d9f8-24bc-4738-8439-26021692cc7d",
        "colab": {
          "base_uri": "https://localhost:8080/"
        }
      },
      "source": [
        "import csv\r\n",
        "import numpy as np\r\n",
        "\r\n",
        "with open(\"Earthquakes.csv\", \"r\") as f:\r\n",
        "  equakes=list(csv.reader(f, delimiter=\",\"))\r\n",
        "\r\n",
        "array1 = np.array(equakes)\r\n",
        "print(array1[0:3, :])"
      ],
      "execution_count": 1,
      "outputs": [
        {
          "output_type": "stream",
          "text": [
            "[['0' '0.0' '0.0' '0.0' '0.0' '36.8578' '44.4161' '16.97' '0.0' '7.0'\n",
            "  '0.0' '0.0' '4.0' '7.0' '0.0']\n",
            " ['1' '0.0' '0.0' '0.0' '0.0' '37.4341' '35.852' '7.02' '0.0' '7.0' '0.0'\n",
            "  '0.0' '4.1' '7.0' '0.0']\n",
            " ['2' '0.0' '0.0' '0.0' '0.0' '37.6878' '37.4016' '10.27' '0.0' '7.0'\n",
            "  '0.0' '0.0' '4.4' '7.0' '0.0']]\n"
          ],
          "name": "stdout"
        }
      ]
    },
    {
      "cell_type": "markdown",
      "metadata": {
        "id": "RMXOWGHASjVO"
      },
      "source": [
        "**(2)** Slice first 20 rows and column numbers 3, 5, 6, 7, 12. Then, assign the array you sliced to a variable."
      ]
    },
    {
      "cell_type": "code",
      "metadata": {
        "id": "1CQ6Ffp0SjVO",
        "outputId": "943e51d0-d2b0-4eb7-b390-1d57797dfbff",
        "colab": {
          "base_uri": "https://localhost:8080/"
        }
      },
      "source": [
        "new = array1[:20, [3,5,6,7,12]].copy()\r\n",
        "print(new)"
      ],
      "execution_count": 2,
      "outputs": [
        {
          "output_type": "stream",
          "text": [
            "[['0.0' '36.8578' '44.4161' '16.97' '4.0']\n",
            " ['0.0' '37.4341' '35.852' '7.02' '4.1']\n",
            " ['0.0' '37.6878' '37.4016' '10.27' '4.4']\n",
            " ['0.0' '37.2003' '30.4376' '78.07' '4.0']\n",
            " ['0.0' '35.6846' '26.7266' '42.77' '4.5']\n",
            " ['0.0' '36.4171' '28.6991' '14.86' '4.1']\n",
            " ['0.0' '36.0535' '31.2135' '36.68' '5.2']\n",
            " ['0.0' '37.1958' '30.6241' '50.33' '4.8']\n",
            " ['0.0' '36.9653' '27.7633' '6.93' '4.3']\n",
            " ['0.0' '38.893' '26.4483' '11.62' '4.2']\n",
            " ['0.0' '37.3773' '36.3855' '10.53' '4.8']\n",
            " ['0.0' '35.8861' '26.0695' '28.49' '4.9']\n",
            " ['0.0' '37.4635' '36.3113' '15.29' '4.3']\n",
            " ['0.0' '37.0201' '36.0845' '10.0' '4.1']\n",
            " ['0.0' '37.6546' '26.6698' '4.5' '4.5']\n",
            " ['0.0' '37.5318' '29.848' '17.58' '4.6']\n",
            " ['0.0' '39.0388' '44.1533' '7.52' '4.5']\n",
            " ['0.0' '38.357' '44.8686' '10.05' '4.1']\n",
            " ['0.0' '35.7018' '28.1495' '6.25' '4.1']\n",
            " ['0.0' '37.6883' '37.3968' '10.63' '4.1']]\n"
          ],
          "name": "stdout"
        }
      ]
    },
    {
      "cell_type": "markdown",
      "metadata": {
        "id": "jBA4bJD7SjVP"
      },
      "source": [
        "**(3)** Display the row numbers where last values are equal to 4.5 or higher."
      ]
    },
    {
      "cell_type": "code",
      "metadata": {
        "id": "xk8AQ6a7SjVP",
        "outputId": "12aeb2b1-bb81-475f-eee5-cf72ce01f68f",
        "colab": {
          "base_uri": "https://localhost:8080/",
          "height": 129
        }
      },
      "source": [
        "array1[:,14] == 4.5 ???"
      ],
      "execution_count": 3,
      "outputs": [
        {
          "output_type": "error",
          "ename": "SyntaxError",
          "evalue": "ignored",
          "traceback": [
            "\u001b[0;36m  File \u001b[0;32m\"<ipython-input-3-3289316d5d9f>\"\u001b[0;36m, line \u001b[0;32m1\u001b[0m\n\u001b[0;31m    array1[:,14] == 4.5 ???\u001b[0m\n\u001b[0m                        ^\u001b[0m\n\u001b[0;31mSyntaxError\u001b[0m\u001b[0;31m:\u001b[0m invalid syntax\n"
          ]
        }
      ]
    },
    {
      "cell_type": "markdown",
      "metadata": {
        "id": "iRbkf3JSSjVP"
      },
      "source": [
        "**(4)** Assign 1 to first row."
      ]
    },
    {
      "cell_type": "code",
      "metadata": {
        "id": "Y1fCwbVjSjVP",
        "outputId": "651f5c09-3f21-4b9d-ad67-df1da3c49c26",
        "colab": {
          "base_uri": "https://localhost:8080/"
        }
      },
      "source": [
        "array1[0,0] = 1\r\n",
        "array1"
      ],
      "execution_count": 7,
      "outputs": [
        {
          "output_type": "execute_result",
          "data": {
            "text/plain": [
              "array([['1', '0.0', '0.0', ..., '4.0', '7.0', '0.0'],\n",
              "       ['1', '0.0', '0.0', ..., '4.1', '7.0', '0.0'],\n",
              "       ['2', '0.0', '0.0', ..., '4.4', '7.0', '0.0'],\n",
              "       ...,\n",
              "       ['6571', '4.0', '0.0', ..., '4.8', '2.0', '0.0'],\n",
              "       ['6572', '3.0', '0.0', ..., '5.2', '2.0', '0.0'],\n",
              "       ['6573', '2.0', '0.0', ..., '4.4', '2.0', '0.0']], dtype='<U17')"
            ]
          },
          "metadata": {
            "tags": []
          },
          "execution_count": 7
        }
      ]
    },
    {
      "cell_type": "markdown",
      "metadata": {
        "id": "5hit4wcTSjVQ"
      },
      "source": [
        "**(5)** Save the final state of the array to disk. You are going to use this in the next assignment."
      ]
    },
    {
      "cell_type": "code",
      "metadata": {
        "id": "bvXWlaGwSjVQ"
      },
      "source": [
        "np.save(\"array1.npy\", array1)"
      ],
      "execution_count": 8,
      "outputs": []
    },
    {
      "cell_type": "code",
      "metadata": {
        "id": "gA5rXS7cc9If"
      },
      "source": [
        ""
      ],
      "execution_count": null,
      "outputs": []
    }
  ]
}