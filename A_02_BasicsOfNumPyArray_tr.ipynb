{
  "nbformat": 4,
  "nbformat_minor": 0,
  "metadata": {
    "kernelspec": {
      "display_name": "Python 3",
      "language": "python",
      "name": "python3"
    },
    "language_info": {
      "codemirror_mode": {
        "name": "ipython",
        "version": 3
      },
      "file_extension": ".py",
      "mimetype": "text/x-python",
      "name": "python",
      "nbconvert_exporter": "python",
      "pygments_lexer": "ipython3",
      "version": "3.8.2"
    },
    "colab": {
      "name": "A_02_BasicsOfNumPyArray_tr.ipynb",
      "provenance": [],
      "include_colab_link": true
    }
  },
  "cells": [
    {
      "cell_type": "markdown",
      "metadata": {
        "id": "view-in-github",
        "colab_type": "text"
      },
      "source": [
        "<a href=\"https://colab.research.google.com/github/odevhesabi/Odevler/blob/main/A_02_BasicsOfNumPyArray_tr.ipynb\" target=\"_parent\"><img src=\"https://colab.research.google.com/assets/colab-badge.svg\" alt=\"Open In Colab\"/></a>"
      ]
    },
    {
      "cell_type": "markdown",
      "metadata": {
        "id": "IDftKEDqSH71"
      },
      "source": [
        "**(1)** Create 3 lists representing house features, each list containing 10 values. First one for squaremeter of house, second one for rooms and last one for price. Then, create an array combining these lists."
      ]
    },
    {
      "cell_type": "code",
      "metadata": {
        "id": "cP9fe4BQSH76"
      },
      "source": [
        "import numpy as np\r\n",
        "squaremeter=[1,2,3,4,5,6,7,8,9,10]\r\n",
        "rooms=[1,2,3,4,5,6,7,8,9,10]\r\n",
        "price=[3,3,3,3,3,3,3,3,3,3]\r\n",
        "\r\n",
        "newarray=np.array([squaremeter, rooms, price])\r\n",
        "print(newarray)"
      ],
      "execution_count": null,
      "outputs": []
    },
    {
      "cell_type": "markdown",
      "metadata": {
        "id": "nRq_DnHUSH77"
      },
      "source": [
        "**(2)** Transpose the array you have created, so that every line can represent features of one house."
      ]
    },
    {
      "cell_type": "code",
      "metadata": {
        "id": "iC5Rs8EcSH77",
        "outputId": "a28b1a97-0d05-4623-b66d-3e3d46d67b51",
        "colab": {
          "base_uri": "https://localhost:8080/"
        }
      },
      "source": [
        "newarray = newarray.transpose()\r\n",
        "print(newarray)"
      ],
      "execution_count": 5,
      "outputs": [
        {
          "output_type": "stream",
          "text": [
            "[[ 1  1  3]\n",
            " [ 2  2  3]\n",
            " [ 3  3  3]\n",
            " [ 4  4  3]\n",
            " [ 5  5  3]\n",
            " [ 6  6  3]\n",
            " [ 7  7  3]\n",
            " [ 8  8  3]\n",
            " [ 9  9  3]\n",
            " [10 10  3]]\n"
          ],
          "name": "stdout"
        }
      ]
    },
    {
      "cell_type": "markdown",
      "metadata": {
        "id": "T7e2bJgPSH77"
      },
      "source": [
        "**(3)** Display the shape of the array and explain what it means."
      ]
    },
    {
      "cell_type": "code",
      "metadata": {
        "id": "7VjVvtS7SH78",
        "outputId": "cb5db0cb-6086-430d-d892-b001a529254a",
        "colab": {
          "base_uri": "https://localhost:8080/"
        }
      },
      "source": [
        "print(newarray.shape)\r\n",
        "\r\n",
        "10 Satır, 3 sütun."
      ],
      "execution_count": 6,
      "outputs": [
        {
          "output_type": "stream",
          "text": [
            "(10, 3)\n"
          ],
          "name": "stdout"
        }
      ]
    },
    {
      "cell_type": "markdown",
      "metadata": {
        "id": "-feZfmC9SH78"
      },
      "source": [
        "**(4)** Write a function that returns an array of ones with zeros where both row and column numbers are even. Sample array is below. Number of rows and columns will be entered as parameters.\n",
        "\n",
        "```python\n",
        "    shape(6 x 5) --> [[1   1   1   1   1]\n",
        "                      [1   0   1   0   1]\n",
        "                      [1   1   1   1   1]\n",
        "                      [1   0   1   0   1]\n",
        "                      [1   1   1   1   1]\n",
        "                      [1   0   1   0   1]]\n",
        "```"
      ]
    },
    {
      "cell_type": "code",
      "metadata": {
        "id": "yuum6cVJPjCK"
      },
      "source": [
        "def array1(row, column):\r\n",
        "  newarray=np.array"
      ],
      "execution_count": null,
      "outputs": []
    }
  ]
}