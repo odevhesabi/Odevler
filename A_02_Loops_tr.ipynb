{
  "nbformat": 4,
  "nbformat_minor": 0,
  "metadata": {
    "kernelspec": {
      "display_name": "Python 3",
      "language": "python",
      "name": "python3"
    },
    "language_info": {
      "codemirror_mode": {
        "name": "ipython",
        "version": 3
      },
      "file_extension": ".py",
      "mimetype": "text/x-python",
      "name": "python",
      "nbconvert_exporter": "python",
      "pygments_lexer": "ipython3",
      "version": "3.7.5"
    },
    "colab": {
      "name": "A_02_Loops_tr.ipynb",
      "provenance": []
    }
  },
  "cells": [
    {
      "cell_type": "markdown",
      "metadata": {
        "id": "QtFBSqkR-x_M"
      },
      "source": [
        "1. Kullanıcının girdiği kelimeyi ters çeviren bir kod yazınız.\n",
        "        Örnek : \"otobüs\" --> \"süboto\n",
        "2. Girilen bir sayı için çarpım tablosunu yazdırın. \n",
        "```\n",
        "        Örnek : Bir sayı girin : 6\n",
        "                6 x 1 = 6                                                               \n",
        "                6 x 2 = 12                                                              \n",
        "                6 x 3 = 18                                                              \n",
        "                6 x 4 = 24                                                              \n",
        "                6 x 5 = 30                                                              \n",
        "                6 x 6 = 36                                                              \n",
        "                6 x 7 = 42                                                              \n",
        "                6 x 8 = 48                                                              \n",
        "                6 x 9 = 54                                                              \n",
        "                6 x 10 = 60 \n",
        "```                \n",
        "3. List comprehension kullanarak, 1'den 20'ye kadar tek sayıların karesini, çift sayıların küpünü içeren bir liste oluşturun.\n",
        "4. 1'den 200'e kadar olan sayıları (`range()`) kullanarak tek sayılar ve çift sayılar olmak üzere iki liste oluşturun.\n",
        "5. Kullanıcıdan alınacak iki sayının OBEB ve OKEK'ini bulan bir program yazın."
      ]
    },
    {
      "cell_type": "code",
      "metadata": {
        "id": "EzSHezY5BNuW",
        "outputId": "3d11ee08-ce41-403c-fc36-96b582bb8a4a",
        "colab": {
          "base_uri": "https://localhost:8080/"
        }
      },
      "source": [
        "a=input(\"bir isim giriniz\")\r\n",
        "liste=[]\r\n",
        "for x in a :\r\n",
        "  liste.append(a)\r\n",
        "\r\n",
        "print(liste)"
      ],
      "execution_count": 13,
      "outputs": [
        {
          "output_type": "stream",
          "text": [
            "bir isim girinizomer\n",
            "['omer', 'omer', 'omer', 'omer']\n"
          ],
          "name": "stdout"
        }
      ]
    },
    {
      "cell_type": "code",
      "metadata": {
        "id": "kSQgGB9zEhAs",
        "outputId": "a983304e-d372-4b59-bc4e-bb4eeb20b3ac",
        "colab": {
          "base_uri": "https://localhost:8080/"
        }
      },
      "source": [
        "eskikelime=input(\"bir isim giriniz\")\r\n",
        "new_string = ''\r\n",
        "index = len(eskikelime)\r\n",
        "while index:\r\n",
        "  index -= 1    \r\n",
        "  eskikelime[index]\r\n",
        "\r\n",
        "print(new_string)    "
      ],
      "execution_count": 29,
      "outputs": [
        {
          "output_type": "stream",
          "text": [
            "bir isim girinizomer\n",
            "\n"
          ],
          "name": "stdout"
        }
      ]
    },
    {
      "cell_type": "code",
      "metadata": {
        "id": "nNyKzlTPDFGF",
        "outputId": "779540ff-bfb2-44a2-cb68-187098396fde",
        "colab": {
          "base_uri": "https://localhost:8080/"
        }
      },
      "source": [
        "eski_kelime=input(\"kelime gir:\")\r\n",
        "yeni_kelime = ''\r\n",
        "index = len(a_string)\r\n",
        "\r\n",
        "while index:\r\n",
        "  index -= 1                    \r\n",
        "  yeni_kelime += eski_kelime[index]\r\n",
        "\r\n",
        "print(yeni_kelime)"
      ],
      "execution_count": 32,
      "outputs": [
        {
          "output_type": "stream",
          "text": [
            "kelime gir:omer\n",
            "remo\n"
          ],
          "name": "stdout"
        }
      ]
    },
    {
      "cell_type": "code",
      "metadata": {
        "id": "-ltudUjlHEtH",
        "outputId": "2f3b0b66-e731-4a6d-c375-50b73b98e476",
        "colab": {
          "base_uri": "https://localhost:8080/"
        }
      },
      "source": [
        "sayi = input(\"Bir sayi giriniz:\")\r\n",
        "sayi=int(sayi)\r\n",
        "\r\n",
        "for i in range(1,11):\r\n",
        "  sonuc=i*sayi\r\n",
        "  print(str(sayi) +\" \" + \"X\" +\" \" + str(i) + \" ={}\".format(sonuc))"
      ],
      "execution_count": 60,
      "outputs": [
        {
          "output_type": "stream",
          "text": [
            "Bir sayi giriniz:2\n",
            "2 X 1 =2\n",
            "2 X 2 =4\n",
            "2 X 3 =6\n",
            "2 X 4 =8\n",
            "2 X 5 =10\n",
            "2 X 6 =12\n",
            "2 X 7 =14\n",
            "2 X 8 =16\n",
            "2 X 9 =18\n",
            "2 X 10 =20\n"
          ],
          "name": "stdout"
        }
      ]
    },
    {
      "cell_type": "code",
      "metadata": {
        "id": "R0ee0-bKHzW_",
        "outputId": "3d067c53-d2dd-4474-a1f6-5b03a28dce2f",
        "colab": {
          "base_uri": "https://localhost:8080/"
        }
      },
      "source": [
        "liste= [x**2 if x%2==0 else x**3 for x in range(1,21)]\r\n",
        "print(liste)"
      ],
      "execution_count": 50,
      "outputs": [
        {
          "output_type": "stream",
          "text": [
            "[1, 4, 27, 16, 125, 36, 343, 64, 729, 100, 1331, 144, 2197, 196, 3375, 256, 4913, 324, 6859, 400]\n"
          ],
          "name": "stdout"
        }
      ]
    },
    {
      "cell_type": "code",
      "metadata": {
        "id": "F7Z8FDQ8LeZM",
        "outputId": "6172cfaf-37ec-4983-e0d5-9baa633e33a5",
        "colab": {
          "base_uri": "https://localhost:8080/"
        }
      },
      "source": [
        "tek_sayi=[]\r\n",
        "cift_sayi=[]\r\n",
        "\r\n",
        "for x in range (1,201):\r\n",
        "  if x % 2 == 0:\r\n",
        "    cift_sayi.append(x)\r\n",
        "  else:\r\n",
        "    tek_sayi.append(x)\r\n",
        "\r\n",
        "print(tek_sayi)\r\n",
        "print(cift_sayi)"
      ],
      "execution_count": 63,
      "outputs": [
        {
          "output_type": "stream",
          "text": [
            "[1, 3, 5, 7, 9, 11, 13, 15, 17, 19, 21, 23, 25, 27, 29, 31, 33, 35, 37, 39, 41, 43, 45, 47, 49, 51, 53, 55, 57, 59, 61, 63, 65, 67, 69, 71, 73, 75, 77, 79, 81, 83, 85, 87, 89, 91, 93, 95, 97, 99, 101, 103, 105, 107, 109, 111, 113, 115, 117, 119, 121, 123, 125, 127, 129, 131, 133, 135, 137, 139, 141, 143, 145, 147, 149, 151, 153, 155, 157, 159, 161, 163, 165, 167, 169, 171, 173, 175, 177, 179, 181, 183, 185, 187, 189, 191, 193, 195, 197, 199]\n",
            "[2, 4, 6, 8, 10, 12, 14, 16, 18, 20, 22, 24, 26, 28, 30, 32, 34, 36, 38, 40, 42, 44, 46, 48, 50, 52, 54, 56, 58, 60, 62, 64, 66, 68, 70, 72, 74, 76, 78, 80, 82, 84, 86, 88, 90, 92, 94, 96, 98, 100, 102, 104, 106, 108, 110, 112, 114, 116, 118, 120, 122, 124, 126, 128, 130, 132, 134, 136, 138, 140, 142, 144, 146, 148, 150, 152, 154, 156, 158, 160, 162, 164, 166, 168, 170, 172, 174, 176, 178, 180, 182, 184, 186, 188, 190, 192, 194, 196, 198, 200]\n"
          ],
          "name": "stdout"
        }
      ]
    },
    {
      "cell_type": "code",
      "metadata": {
        "id": "h6eNSADRNVGJ"
      },
      "source": [
        ""
      ],
      "execution_count": null,
      "outputs": []
    }
  ]
}