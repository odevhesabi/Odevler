{
  "nbformat": 4,
  "nbformat_minor": 0,
  "metadata": {
    "kernelspec": {
      "display_name": "Python 3",
      "language": "python",
      "name": "python3"
    },
    "language_info": {
      "codemirror_mode": {
        "name": "ipython",
        "version": 3
      },
      "file_extension": ".py",
      "mimetype": "text/x-python",
      "name": "python",
      "nbconvert_exporter": "python",
      "pygments_lexer": "ipython3",
      "version": "3.7.3"
    },
    "colab": {
      "name": "A_07_FilteringDataFrames_tr.ipynb",
      "provenance": [],
      "include_colab_link": true
    }
  },
  "cells": [
    {
      "cell_type": "markdown",
      "metadata": {
        "id": "view-in-github",
        "colab_type": "text"
      },
      "source": [
        "<a href=\"https://colab.research.google.com/github/odevhesabi/Odevler/blob/main/A_07_FilteringDataFrames_tr.ipynb\" target=\"_parent\"><img src=\"https://colab.research.google.com/assets/colab-badge.svg\" alt=\"Open In Colab\"/></a>"
      ]
    },
    {
      "cell_type": "markdown",
      "metadata": {
        "id": "ZLymjBylHBep"
      },
      "source": [
        "For Pandas assignments, you are going to use [Titanic](https://www.kaggle.com/c/titanic/download/GQf0y8ebHO0C4JXscPPp%2Fversions%2FXkNkvXwqPPVG0Qt3MtQT%2Ffiles%2Ftrain.csv) (train.csv) dataset. Download the dataset and load to a DataFrame.\n",
        "\n",
        "**(1)** By using conditional selection methods, calculate the survival rate for all passengers under 30 years old.\n"
      ]
    },
    {
      "cell_type": "code",
      "metadata": {
        "id": "295F6lIUHBe1",
        "outputId": "2e7de4b8-483d-4736-dc9e-9c277bae6fd2",
        "colab": {
          "base_uri": "https://localhost:8080/"
        }
      },
      "source": [
        "import numpy as np\n",
        "import pandas as pd\n",
        "\n",
        "df = pd.read_csv(\"test.csv\")\n",
        "\n",
        "df1 = pd.read_csv(\"gender_submission.csv\")\n",
        "df1.columns\n",
        "df[\"Survived\"] = df1[\"Survived\"]\n",
        "df[(df[\"Age\"] < 30) & (df[\"Survived\"])]\n",
        "x = df[\"Survived\"].sum()\n",
        "y = df.index\n",
        "print(x)\n",
        "print(y)\n",
        "survival_rate = 152 /418\n",
        "print(survival_rate)"
      ],
      "execution_count": 23,
      "outputs": [
        {
          "output_type": "stream",
          "text": [
            "152\n",
            "RangeIndex(start=0, stop=418, step=1)\n",
            "0.36363636363636365\n"
          ],
          "name": "stdout"
        }
      ]
    },
    {
      "cell_type": "markdown",
      "metadata": {
        "id": "NCEI7Vg9HBe2"
      },
      "source": [
        "**(2)** Calculate the survival rate by gender."
      ]
    },
    {
      "cell_type": "code",
      "metadata": {
        "id": "5-Bz3DWpHBe2",
        "outputId": "0bca6295-8283-4a18-9195-ded040687cbe",
        "colab": {
          "base_uri": "https://localhost:8080/"
        }
      },
      "source": [
        "sum_0 = df[(df[\"Sex\"] == \"female\") & (df[\"Survived\"] == 0)].shape[0]\n",
        "sum_1 = df[(df[\"Sex\"] == \"female\") & (df[\"Survived\"] == 1)].shape[0]\n",
        "print(sum_0)\n",
        "print(sum_1)\n",
        "#survived_female_rate = %100\n",
        "\n",
        "sum_2 = df[(df[\"Sex\"] == \"male\") & (df[\"Survived\"] == 0)].shape[0]\n",
        "sum_3 = df[(df[\"Sex\"] == \"male\") & (df[\"Survived\"] == 1)].shape[0]\n",
        "\n",
        "print(sum_2)\n",
        "print(sum_3)\n",
        "#survived_male_rate = %0\n",
        "\n",
        "\n",
        "\n",
        "\n"
      ],
      "execution_count": 42,
      "outputs": [
        {
          "output_type": "stream",
          "text": [
            "0\n",
            "152\n",
            "266\n",
            "0\n"
          ],
          "name": "stdout"
        }
      ]
    },
    {
      "cell_type": "code",
      "metadata": {
        "id": "h71zrWPAMb58"
      },
      "source": [
        ""
      ],
      "execution_count": null,
      "outputs": []
    }
  ]
}