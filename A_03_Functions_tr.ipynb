{
  "nbformat": 4,
  "nbformat_minor": 0,
  "metadata": {
    "kernelspec": {
      "display_name": "Python 3",
      "language": "python",
      "name": "python3"
    },
    "language_info": {
      "codemirror_mode": {
        "name": "ipython",
        "version": 3
      },
      "file_extension": ".py",
      "mimetype": "text/x-python",
      "name": "python",
      "nbconvert_exporter": "python",
      "pygments_lexer": "ipython3",
      "version": "3.7.5"
    },
    "colab": {
      "name": "A_03_Functions_tr.ipynb",
      "provenance": [],
      "include_colab_link": true
    }
  },
  "cells": [
    {
      "cell_type": "markdown",
      "metadata": {
        "id": "view-in-github",
        "colab_type": "text"
      },
      "source": [
        "<a href=\"https://colab.research.google.com/github/odevhesabi/Odevler/blob/main/A_03_Functions_tr.ipynb\" target=\"_parent\"><img src=\"https://colab.research.google.com/assets/colab-badge.svg\" alt=\"Open In Colab\"/></a>"
      ]
    },
    {
      "cell_type": "markdown",
      "metadata": {
        "id": "gyGET581duw1"
      },
      "source": [
        "**1**. Parametre olarak girilen bir sayının asal sayı olup olmadığını belirten bir fonksiyon yazın.\n",
        "\n",
        "2. Parametre olarak girilecek listenin elemanlarını yeni bir listeye her değer sadece bir kere geçecek şekilde aktaran bir fonksiyon yazın. Normalde bu işlemi `set()` komutu ile yapabiliriz ama bu seferlik bu komutu kullanmayalım.\n",
        "\n",
        "        Örnek : uniq_liste([1,2,2,3,3,4,4]) = [1,2,3,4]\n",
        "        \n",
        "3. Parametre olarak girilen bir sayının faktöriyelini hesaplayan bir fonksiyon yazın.\n",
        "4. Girilen metin içerisindeki büyük harf ve küçük harflerin sayısını ekrana yazdıran bir fonksiyon yazın."
      ]
    },
    {
      "cell_type": "code",
      "metadata": {
        "id": "IT-Wm5MYdxI6",
        "outputId": "fdde6849-8c31-4356-fd6f-017d430ae157",
        "colab": {
          "base_uri": "https://localhost:8080/"
        }
      },
      "source": [
        "def asalmi(x): \r\n",
        "\r\n",
        "  sayac=0\r\n",
        "  for y in range(2, x+1):\r\n",
        "    if x % y == 0:\r\n",
        "      sayac+=1\r\n",
        "  \r\n",
        "  if sayac == 1:\r\n",
        "    print(\"Girdiğniniz sayı asaldır.\")\r\n",
        "  else:\r\n",
        "    print(\"Girdiğniniz sayı asal değildir.\")\r\n",
        "\r\n",
        "asalmi(5)\r\n",
        "\r\n",
        "\r\n"
      ],
      "execution_count": 12,
      "outputs": [
        {
          "output_type": "stream",
          "text": [
            "Girdiğniniz sayı asaldır.\n"
          ],
          "name": "stdout"
        }
      ]
    },
    {
      "cell_type": "code",
      "metadata": {
        "id": "FYu2dvXeeAe6",
        "outputId": "3b54262a-ceb4-4d1a-a5b2-0d9e840b9871",
        "colab": {
          "base_uri": "https://localhost:8080/"
        }
      },
      "source": [
        "def unique(liste):\r\n",
        "  yeni_liste=[]\r\n",
        "\r\n",
        "  for eleman in liste:\r\n",
        "    if eleman not in yeni_liste:\r\n",
        "      yeni_liste.append(eleman)\r\n",
        "    else:\r\n",
        "      continue\r\n",
        "      \r\n",
        "  \r\n",
        "  return yeni_liste\r\n",
        "  \r\n",
        "unique([1,4,4,3,6,8,9,0,11,12,13,13,45,64,69])"
      ],
      "execution_count": 19,
      "outputs": [
        {
          "output_type": "execute_result",
          "data": {
            "text/plain": [
              "[1, 4, 3, 6, 8, 9, 0, 11, 12, 13, 45, 64, 69]"
            ]
          },
          "metadata": {
            "tags": []
          },
          "execution_count": 19
        }
      ]
    },
    {
      "cell_type": "code",
      "metadata": {
        "id": "1KVlweHygAem",
        "outputId": "92607fa9-5c8c-4b1e-cec4-68e9905a54eb",
        "colab": {
          "base_uri": "https://localhost:8080/"
        }
      },
      "source": [
        "\r\n",
        "def faktoriyel(sayi):\r\n",
        "\r\n",
        "  factoriel=1\r\n",
        "\r\n",
        "  for y in range (1,sayi+1):\r\n",
        "    factoriel = factoriel * y\r\n",
        "  \r\n",
        "  return factoriel\r\n",
        "\r\n",
        "\r\n",
        "faktoriyel(4)\r\n"
      ],
      "execution_count": 24,
      "outputs": [
        {
          "output_type": "execute_result",
          "data": {
            "text/plain": [
              "24"
            ]
          },
          "metadata": {
            "tags": []
          },
          "execution_count": 24
        }
      ]
    },
    {
      "cell_type": "code",
      "metadata": {
        "id": "dZ9L_QnHh1cw"
      },
      "source": [
        "4. soru ?"
      ],
      "execution_count": null,
      "outputs": []
    }
  ]
}