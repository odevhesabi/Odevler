{
  "nbformat": 4,
  "nbformat_minor": 0,
  "metadata": {
    "kernelspec": {
      "display_name": "Python 3",
      "language": "python",
      "name": "python3"
    },
    "language_info": {
      "codemirror_mode": {
        "name": "ipython",
        "version": 3
      },
      "file_extension": ".py",
      "mimetype": "text/x-python",
      "name": "python",
      "nbconvert_exporter": "python",
      "pygments_lexer": "ipython3",
      "version": "3.7.5"
    },
    "colab": {
      "name": "A_05_Errors_Exceptions_Handling_tr.ipynb",
      "provenance": [],
      "include_colab_link": true
    }
  },
  "cells": [
    {
      "cell_type": "markdown",
      "metadata": {
        "id": "view-in-github",
        "colab_type": "text"
      },
      "source": [
        "<a href=\"https://colab.research.google.com/github/odevhesabi/Odevler/blob/main/A_05_Errors_Exceptions_Handling_tr.ipynb\" target=\"_parent\"><img src=\"https://colab.research.google.com/assets/colab-badge.svg\" alt=\"Open In Colab\"/></a>"
      ]
    },
    {
      "cell_type": "markdown",
      "metadata": {
        "id": "ZspKaor4970I"
      },
      "source": [
        "1. Parametre olarak girilen ilk sayıyı, ikinci sayıya bölen ve sonucu yazdıran bir kod yazın. Ancak kodumuz 0'a bölme durumunda bir uyarı versin!\n",
        "\n",
        "2. Parametre olarak girilen listeyi sıralayan bir fonksiyon yazın ve aşağıdaki liste ile deneyin.\n",
        "\n",
        "```python\n",
        "liste = ['Merhaba', 42, 3.414, True, None]\n",
        "```\n"
      ]
    },
    {
      "cell_type": "code",
      "metadata": {
        "colab": {
          "base_uri": "https://localhost:8080/"
        },
        "id": "2TrSMehh99FN",
        "outputId": "582afca6-a04b-4450-aee4-e18d0972f050"
      },
      "source": [
        "sayi1= input(\"Payı giriniz:\")\r\n",
        "sayi2= input(\"Paydayı giriniz:\")\r\n",
        "sayi1=int(sayi1)\r\n",
        "sayi2=int(sayi2)\r\n",
        "\r\n",
        "try:\r\n",
        "\r\n",
        "  sonuc=sayi1 / sayi2\r\n",
        "  print(sonuc)\r\n",
        "except:\r\n",
        "  print(\"Payda sıfır olamaz!\")\r\n"
      ],
      "execution_count": 3,
      "outputs": [
        {
          "output_type": "stream",
          "text": [
            "Payı giriniz:2\n",
            "Paydayı giriniz:0\n",
            "Payda sıfır olamaz!\n"
          ],
          "name": "stdout"
        }
      ]
    },
    {
      "cell_type": "code",
      "metadata": {
        "colab": {
          "base_uri": "https://localhost:8080/"
        },
        "id": "JTf7B2xK-fTj",
        "outputId": "a43b9ca3-d914-4cc9-b949-25d4582745de"
      },
      "source": [
        "liste = ['Merhaba', 42, 3.414, True, None]\r\n",
        "sayac=0\r\n",
        "def toplam(liste):\r\n",
        "  for x in liste:\r\n",
        "    try:\r\n",
        "      sayac += sayac + x\r\n",
        "      print(sayac)\r\n",
        "    except:\r\n",
        "      print(\"Sadece integer degerler toplanabilir!\")\r\n",
        "\r\n",
        "toplam(liste)\r\n",
        "\r\n",
        "\r\n"
      ],
      "execution_count": 5,
      "outputs": [
        {
          "output_type": "stream",
          "text": [
            "Sadece integer degerler toplanabilir!\n",
            "Sadece integer degerler toplanabilir!\n",
            "Sadece integer degerler toplanabilir!\n",
            "Sadece integer degerler toplanabilir!\n",
            "Sadece integer degerler toplanabilir!\n"
          ],
          "name": "stdout"
        }
      ]
    },
    {
      "cell_type": "code",
      "metadata": {
        "id": "VjPxC2QSBJdF"
      },
      "source": [
        ""
      ],
      "execution_count": null,
      "outputs": []
    }
  ]
}